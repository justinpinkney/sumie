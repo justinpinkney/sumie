{
 "cells": [
  {
   "cell_type": "code",
   "execution_count": 1,
   "metadata": {
    "colab": {},
    "colab_type": "code",
    "id": "6ywrQReMpBuP"
   },
   "outputs": [],
   "source": [
    "import sumie\n",
    "import torch\n",
    "import torchvision\n",
    "import matplotlib.pyplot as plt\n",
    "import numpy as np\n",
    "import skimage\n",
    "\n",
    "%matplotlib inline\n",
    "\n",
    "%load_ext autoreload\n",
    "\n",
    "%autoreload 2"
   ]
  },
  {
   "cell_type": "code",
   "execution_count": 2,
   "metadata": {
    "colab": {
     "base_uri": "https://localhost:8080/",
     "height": 832
    },
    "colab_type": "code",
    "executionInfo": {
     "elapsed": 2837,
     "status": "ok",
     "timestamp": 1549395818690,
     "user": {
      "displayName": "Justin Pinkney",
      "photoUrl": "https://lh5.googleusercontent.com/-o-8H06pcjZc/AAAAAAAAAAI/AAAAAAAAAa4/9_BppoJ5L3g/s64/photo.jpg",
      "userId": "04954771725304956961"
     },
     "user_tz": 0
    },
    "id": "fCqI1szlpBvQ",
    "outputId": "615d2b3b-4208-4d6a-c4de-207146183e71"
   },
   "outputs": [
    {
     "data": {
      "text/plain": [
       "VGG(\n",
       "  (features): Sequential(\n",
       "    (0): Conv2d(3, 64, kernel_size=(3, 3), stride=(1, 1), padding=(1, 1))\n",
       "    (1): ReLU()\n",
       "    (2): Conv2d(64, 64, kernel_size=(3, 3), stride=(1, 1), padding=(1, 1))\n",
       "    (3): ReLU()\n",
       "    (4): MaxPool2d(kernel_size=2, stride=2, padding=0, dilation=1, ceil_mode=False)\n",
       "    (5): Conv2d(64, 128, kernel_size=(3, 3), stride=(1, 1), padding=(1, 1))\n",
       "    (6): ReLU()\n",
       "    (7): Conv2d(128, 128, kernel_size=(3, 3), stride=(1, 1), padding=(1, 1))\n",
       "    (8): ReLU()\n",
       "    (9): MaxPool2d(kernel_size=2, stride=2, padding=0, dilation=1, ceil_mode=False)\n",
       "    (10): Conv2d(128, 256, kernel_size=(3, 3), stride=(1, 1), padding=(1, 1))\n",
       "    (11): ReLU()\n",
       "    (12): Conv2d(256, 256, kernel_size=(3, 3), stride=(1, 1), padding=(1, 1))\n",
       "    (13): ReLU()\n",
       "    (14): Conv2d(256, 256, kernel_size=(3, 3), stride=(1, 1), padding=(1, 1))\n",
       "    (15): ReLU()\n",
       "    (16): MaxPool2d(kernel_size=2, stride=2, padding=0, dilation=1, ceil_mode=False)\n",
       "    (17): Conv2d(256, 512, kernel_size=(3, 3), stride=(1, 1), padding=(1, 1))\n",
       "    (18): ReLU()\n",
       "    (19): Conv2d(512, 512, kernel_size=(3, 3), stride=(1, 1), padding=(1, 1))\n",
       "    (20): ReLU()\n",
       "    (21): Conv2d(512, 512, kernel_size=(3, 3), stride=(1, 1), padding=(1, 1))\n",
       "    (22): ReLU()\n",
       "    (23): MaxPool2d(kernel_size=2, stride=2, padding=0, dilation=1, ceil_mode=False)\n",
       "    (24): Conv2d(512, 512, kernel_size=(3, 3), stride=(1, 1), padding=(1, 1))\n",
       "    (25): ReLU()\n",
       "    (26): Conv2d(512, 512, kernel_size=(3, 3), stride=(1, 1), padding=(1, 1))\n",
       "    (27): ReLU()\n",
       "    (28): Conv2d(512, 512, kernel_size=(3, 3), stride=(1, 1), padding=(1, 1))\n",
       "    (29): ReLU()\n",
       "    (30): MaxPool2d(kernel_size=2, stride=2, padding=0, dilation=1, ceil_mode=False)\n",
       "  )\n",
       "  (classifier): Sequential(\n",
       "    (0): Linear(in_features=25088, out_features=4096, bias=True)\n",
       "    (1): ReLU()\n",
       "    (2): Dropout(p=0.5)\n",
       "    (3): Linear(in_features=4096, out_features=4096, bias=True)\n",
       "    (4): ReLU()\n",
       "    (5): Dropout(p=0.5)\n",
       "    (6): Linear(in_features=4096, out_features=1000, bias=True)\n",
       "  )\n",
       ")"
      ]
     },
     "execution_count": 2,
     "metadata": {},
     "output_type": "execute_result"
    }
   ],
   "source": [
    "model = torchvision.models.vgg16(pretrained=True).eval()\n",
    "sumie.utils.remove_inplace(model)\n",
    "model"
   ]
  },
  {
   "cell_type": "code",
   "execution_count": null,
   "metadata": {
    "colab": {
     "base_uri": "https://localhost:8080/",
     "height": 779
    },
    "colab_type": "code",
    "executionInfo": {
     "elapsed": 11052,
     "status": "ok",
     "timestamp": 1549395967079,
     "user": {
      "displayName": "Justin Pinkney",
      "photoUrl": "https://lh5.googleusercontent.com/-o-8H06pcjZc/AAAAAAAAAAI/AAAAAAAAAa4/9_BppoJ5L3g/s64/photo.jpg",
      "userId": "04954771725304956961"
     },
     "user_tz": 0
    },
    "id": "-YdthBTZpBwB",
    "outputId": "577b6d56-7836-45bd-9eba-41f9d845afba"
   },
   "outputs": [
    {
     "name": "stderr",
     "output_type": "stream",
     "text": [
      " 92%|█████████▏| 919/1000 [04:12<00:22,  3.63it/s]"
     ]
    }
   ],
   "source": [
    "class ProgressiveShift(torch.nn.Module):\n",
    "\n",
    "    def __init__(self):\n",
    "        super(ProgressiveShift, self).__init__()\n",
    "        self.amount = 0\n",
    "        \n",
    "    def forward(self, image):\n",
    "        self.amount += 1\n",
    "        return image.roll(self.amount, 2)\n",
    "    \n",
    "class GradientMask(torch.nn.Module):\n",
    "\n",
    "    def __init__(self):\n",
    "        super(GradientMask, self).__init__()\n",
    "        self.register_backward_hook(self.hook)\n",
    "        \n",
    "    def forward(self, image):\n",
    "        return image\n",
    "    \n",
    "    def hook(self, module, grad_input, grad_output):\n",
    "        modified = torch.zeros(grad_input[0].size()).cuda()\n",
    "        modified[:,:,:100,:100] = grad_input[0][:,:,:100,:100]\n",
    "        return (modified,)\n",
    "\n",
    "\n",
    "def scale_image(i, image, model, objective, opt):\n",
    "    if i % 2 == 0:\n",
    "        scaled = torch.nn.functional.interpolate(image.base_image.pixels.data, scale_factor=1.005, mode='bilinear', align_corners=False)\n",
    "        original_size = image.base_image.pixels.size()\n",
    "        image.base_image.pixels.data = scaled[:original_size[0],:original_size[1],:original_size[2],:original_size[3]]\n",
    "\n",
    "def grab_value(a):\n",
    "    return a[5, 5]\n",
    "        \n",
    "def change_objective(i, image, model, objective, opt):\n",
    "    if i % 100 == 0:\n",
    "        opt.objective = sumie.objectives.ConvChannel(model[26], np.random.randint(512), func=torch.std)\n",
    "\n",
    "def change_combined(i, image, model, objective, opt):\n",
    "    if i % 100 == 0:\n",
    "        opt.objective.children[0] = sumie.objectives.ConvChannel(model[26], np.random.randint(512))\n",
    "    if i % 75 == 0:\n",
    "        opt.objective.children[1] = sumie.objectives.ConvChannel(model[10], np.random.randint(256), func=torch.std)\n",
    "\n",
    "from skimage.transform import AffineTransform\n",
    "\n",
    "def warp_image(i, image, model, objective, opt):\n",
    "    if i % 2 == 0:\n",
    "        tform = AffineTransform(rotation=0.01/5)\n",
    "        reshaped_image = image.base_image.pixels.detach().permute(3,2,1,0).squeeze(3).cpu().numpy()\n",
    "        warped = skimage.transform.warp(reshaped_image, tform)\n",
    "        warped = torch.Tensor(warped).permute(2,1,0).unsqueeze(0).contiguous()\n",
    "        image.base_image.pixels.data = warped.to(device)\n",
    "        \n",
    "        \n",
    "def warp_fft(i, image, model, objective, opt):\n",
    "    if i % 2 == 0:\n",
    "        tform = AffineTransform(rotation=0.01/20)\n",
    "        reshaped_image0 = image.base_image.pixels.detach()[:,:,:,0].permute(2,1,0).cpu().numpy()\n",
    "        warped0 = skimage.transform.warp(reshaped_image0, tform)\n",
    "        warped0 = torch.Tensor(warped0).permute(2,1,0).unsqueeze(-1)\n",
    "        reshaped_image1 = image.base_image.pixels.detach()[:,:,:,1].permute(2,1,0).cpu().numpy()\n",
    "        warped1 = skimage.transform.warp(reshaped_image1, tform)\n",
    "        warped1 = torch.Tensor(warped1).permute(2,1,0).unsqueeze(-1)\n",
    "        combined = torch.cat((warped0, warped1), dim=3)\n",
    "        image.base_image.pixels.data = combined.to(device)\n",
    "\n",
    "im = sumie.Image((720, 960), param='fft', transforms=[\n",
    "                    sumie.transforms.PositionJitter(8),\n",
    "                    sumie.transforms.Interpolate(0.5),\n",
    "                    sumie.transforms.Normalise(),\n",
    "              ]\n",
    "            )\n",
    "\n",
    "device = 'cuda'\n",
    "im.to(device)\n",
    "model.to(device)\n",
    "channel = sumie.objectives.ConvChannel(model.features[26], 0, func=torch.std)\n",
    "obj2 = sumie.objectives.ConvChannel(model.features[10], 0, func=torch.std)\n",
    "combined = Composite([channel, obj2], [1, 5])\n",
    "opt = sumie.Optimiser(im, model.features, combined)\n",
    "opt.add_callback(change_combined)\n",
    "\n",
    "opt.run(iterations=1000, progress=True, lr=0.025, output='tmp')\n",
    "sumie.vis.show(im.get_image())"
   ]
  },
  {
   "cell_type": "code",
   "execution_count": 8,
   "metadata": {},
   "outputs": [
    {
     "data": {
      "text/plain": [
       "[<matplotlib.lines.Line2D at 0x7fb4dd758240>]"
      ]
     },
     "execution_count": 8,
     "metadata": {},
     "output_type": "execute_result"
    },
    {
     "data": {
      "image/png": "[encoded data removed]",
      "text/plain": [
       "<Figure size 432x288 with 1 Axes>"
      ]
     },
     "metadata": {
      "needs_background": "light"
     },
     "output_type": "display_data"
    }
   ],
   "source": [
    "plt.plot([x.item() for x in opt.history])"
   ]
  },
  {
   "cell_type": "code",
   "execution_count": 5,
   "metadata": {},
   "outputs": [
    {
     "name": "stdout",
     "output_type": "stream",
     "text": [
      "tensor(54.8609, device='cuda:0', grad_fn=<MeanBackward1>)\n",
      "tensor(12.0423, device='cuda:0', grad_fn=<StdBackward0>)\n"
     ]
    }
   ],
   "source": [
    "for child in opt.objective.children:\n",
    "    print(child.objective)\n"
   ]
  },
  {
   "cell_type": "code",
   "execution_count": 6,
   "metadata": {
    "colab": {
     "base_uri": "https://localhost:8080/",
     "height": 265
    },
    "colab_type": "code",
    "executionInfo": {
     "elapsed": 650,
     "status": "ok",
     "timestamp": 1549395989755,
     "user": {
      "displayName": "Justin Pinkney",
      "photoUrl": "https://lh5.googleusercontent.com/-o-8H06pcjZc/AAAAAAAAAAI/AAAAAAAAAa4/9_BppoJ5L3g/s64/photo.jpg",
      "userId": "04954771725304956961"
     },
     "user_tz": 0
    },
    "id": "fMexNUe-bNi2",
    "outputId": "e37b9af9-1694-44a5-c1fd-b8bda3e0bb2c"
   },
   "outputs": [
    {
     "ename": "NameError",
     "evalue": "name 'animation' is not defined",
     "output_type": "error",
     "traceback": [
      "\u001b[0;31m---------------------------------------------------------------------------\u001b[0m",
      "\u001b[0;31mNameError\u001b[0m                                 Traceback (most recent call last)",
      "\u001b[0;32m<ipython-input-6-e7b73b41f812>\u001b[0m in \u001b[0;36m<module>\u001b[0;34m\u001b[0m\n\u001b[1;32m      6\u001b[0m \u001b[0mplt\u001b[0m\u001b[0;34m.\u001b[0m\u001b[0maxis\u001b[0m\u001b[0;34m(\u001b[0m\u001b[0;34m'off'\u001b[0m\u001b[0;34m)\u001b[0m\u001b[0;34m\u001b[0m\u001b[0;34m\u001b[0m\u001b[0m\n\u001b[1;32m      7\u001b[0m \u001b[0max\u001b[0m\u001b[0;34m.\u001b[0m\u001b[0mgrid\u001b[0m\u001b[0;34m(\u001b[0m\u001b[0;32mFalse\u001b[0m\u001b[0;34m)\u001b[0m\u001b[0;34m\u001b[0m\u001b[0;34m\u001b[0m\u001b[0m\n\u001b[0;32m----> 8\u001b[0;31m \u001b[0mim\u001b[0m\u001b[0;34m=\u001b[0m\u001b[0mplt\u001b[0m\u001b[0;34m.\u001b[0m\u001b[0mimshow\u001b[0m\u001b[0;34m(\u001b[0m\u001b[0mto_frame\u001b[0m\u001b[0;34m(\u001b[0m\u001b[0;36m0\u001b[0m\u001b[0;34m)\u001b[0m\u001b[0;34m)\u001b[0m\u001b[0;34m\u001b[0m\u001b[0;34m\u001b[0m\u001b[0m\n\u001b[0m\u001b[1;32m      9\u001b[0m \u001b[0;34m\u001b[0m\u001b[0m\n\u001b[1;32m     10\u001b[0m \u001b[0;31m# initialization function: plot the background of each frame\u001b[0m\u001b[0;34m\u001b[0m\u001b[0;34m\u001b[0m\u001b[0;34m\u001b[0m\u001b[0m\n",
      "\u001b[0;32m<ipython-input-6-e7b73b41f812>\u001b[0m in \u001b[0;36mto_frame\u001b[0;34m(i)\u001b[0m\n\u001b[1;32m      1\u001b[0m \u001b[0;32mdef\u001b[0m \u001b[0mto_frame\u001b[0m\u001b[0;34m(\u001b[0m\u001b[0mi\u001b[0m\u001b[0;34m)\u001b[0m\u001b[0;34m:\u001b[0m\u001b[0;34m\u001b[0m\u001b[0;34m\u001b[0m\u001b[0m\n\u001b[0;32m----> 2\u001b[0;31m   \u001b[0;32mreturn\u001b[0m \u001b[0manimation\u001b[0m\u001b[0;34m[\u001b[0m\u001b[0mi\u001b[0m\u001b[0;34m,\u001b[0m\u001b[0;34m:\u001b[0m\u001b[0;34m,\u001b[0m\u001b[0;34m:\u001b[0m\u001b[0;34m,\u001b[0m\u001b[0;34m:\u001b[0m\u001b[0;34m]\u001b[0m\u001b[0;34m.\u001b[0m\u001b[0msqueeze\u001b[0m\u001b[0;34m(\u001b[0m\u001b[0;36m0\u001b[0m\u001b[0;34m)\u001b[0m\u001b[0;34m.\u001b[0m\u001b[0mpermute\u001b[0m\u001b[0;34m(\u001b[0m\u001b[0;34m(\u001b[0m\u001b[0;36m1\u001b[0m\u001b[0;34m,\u001b[0m \u001b[0;36m2\u001b[0m\u001b[0;34m,\u001b[0m \u001b[0;36m0\u001b[0m\u001b[0;34m)\u001b[0m\u001b[0;34m)\u001b[0m\u001b[0;34m.\u001b[0m\u001b[0mnumpy\u001b[0m\u001b[0;34m(\u001b[0m\u001b[0;34m)\u001b[0m\u001b[0;34m\u001b[0m\u001b[0;34m\u001b[0m\u001b[0m\n\u001b[0m\u001b[1;32m      3\u001b[0m \u001b[0;34m\u001b[0m\u001b[0m\n\u001b[1;32m      4\u001b[0m \u001b[0mfig\u001b[0m \u001b[0;34m=\u001b[0m \u001b[0mplt\u001b[0m\u001b[0;34m.\u001b[0m\u001b[0mfigure\u001b[0m\u001b[0;34m(\u001b[0m\u001b[0;34m)\u001b[0m\u001b[0;34m\u001b[0m\u001b[0;34m\u001b[0m\u001b[0m\n\u001b[1;32m      5\u001b[0m \u001b[0max\u001b[0m \u001b[0;34m=\u001b[0m \u001b[0mplt\u001b[0m\u001b[0;34m.\u001b[0m\u001b[0maxes\u001b[0m\u001b[0;34m(\u001b[0m\u001b[0mxlim\u001b[0m\u001b[0;34m=\u001b[0m\u001b[0;34m(\u001b[0m\u001b[0;36m0\u001b[0m\u001b[0;34m,\u001b[0m \u001b[0;36m224\u001b[0m\u001b[0;34m)\u001b[0m\u001b[0;34m,\u001b[0m \u001b[0mylim\u001b[0m\u001b[0;34m=\u001b[0m\u001b[0;34m(\u001b[0m\u001b[0;36m0\u001b[0m\u001b[0;34m,\u001b[0m \u001b[0;36m224\u001b[0m\u001b[0;34m)\u001b[0m\u001b[0;34m)\u001b[0m\u001b[0;34m\u001b[0m\u001b[0;34m\u001b[0m\u001b[0m\n",
      "\u001b[0;31mNameError\u001b[0m: name 'animation' is not defined"
     ]
    },
    {
     "data": {
      "image/png": "[encoded data removed]",
      "text/plain": [
       "<Figure size 432x288 with 1 Axes>"
      ]
     },
     "metadata": {
      "needs_background": "light"
     },
     "output_type": "display_data"
    }
   ],
   "source": [
    "def to_frame(i):\n",
    "  return animation[i,:,:,:].squeeze(0).permute((1, 2, 0)).numpy()\n",
    "\n",
    "fig = plt.figure()\n",
    "ax = plt.axes(xlim=(0, 224), ylim=(0, 224))\n",
    "plt.axis('off')\n",
    "ax.grid(False)\n",
    "im=plt.imshow(to_frame(0))\n",
    "\n",
    "# initialization function: plot the background of each frame\n",
    "def init():\n",
    "    im.set_data(to_frame(0))\n",
    "    return [im]\n",
    "\n",
    "# animation function.  This is called sequentially\n",
    "def animate(i):\n",
    "  if i<100:\n",
    "    im.set_array(to_frame(i))\n",
    "  else:\n",
    "    im.set_array(to_frame(199-i))\n",
    "  return [im]\n",
    "  \n",
    "anim = matplotlib.animation.FuncAnimation(fig, animate, init_func=init,\n",
    "                               frames=200, interval=20, \n",
    "                               blit=True, repeat=True)\n",
    "#HTML(anim.to_jshtml())"
   ]
  },
  {
   "cell_type": "code",
   "execution_count": null,
   "metadata": {
    "colab": {
     "base_uri": "https://localhost:8080/",
     "height": 309
    },
    "colab_type": "code",
    "executionInfo": {
     "elapsed": 3451,
     "status": "ok",
     "timestamp": 1549395996925,
     "user": {
      "displayName": "Justin Pinkney",
      "photoUrl": "https://lh5.googleusercontent.com/-o-8H06pcjZc/AAAAAAAAAAI/AAAAAAAAAa4/9_BppoJ5L3g/s64/photo.jpg",
      "userId": "04954771725304956961"
     },
     "user_tz": 0
    },
    "id": "kaL6v2vxiuQs",
    "outputId": "e74d3884-e7fb-4002-ddeb-4966a35740f0"
   },
   "outputs": [],
   "source": [
    "HTML(anim.to_html5_video())"
   ]
  }
 ],
 "metadata": {
  "accelerator": "GPU",
  "colab": {
   "collapsed_sections": [],
   "name": "im_opt.ipynb",
   "provenance": [],
   "version": "0.3.2"
  },
  "kernelspec": {
   "display_name": "Python 3",
   "language": "python",
   "name": "python3"
  },
  "language_info": {
   "codemirror_mode": {
    "name": "ipython",
    "version": 3
   },
   "file_extension": ".py",
   "mimetype": "text/x-python",
   "name": "python",
   "nbconvert_exporter": "python",
   "pygments_lexer": "ipython3",
   "version": "3.6.7"
  }
 },
 "nbformat": 4,
 "nbformat_minor": 2
}
